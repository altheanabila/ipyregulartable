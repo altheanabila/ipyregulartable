{
 "cells": [
  {
   "cell_type": "markdown",
   "metadata": {},
   "source": [
    "# ipyregulartable\n",
    "https://github.com/jpmorganchase/ipyregulartable\n",
    "    "
   ]
  },
  {
   "cell_type": "code",
   "execution_count": 16,
   "metadata": {},
   "outputs": [],
   "source": [
    "import ipyregulartable as rt"
   ]
  },
  {
   "cell_type": "code",
   "execution_count": 17,
   "metadata": {},
   "outputs": [],
   "source": [
    "import numpy as np\n",
    "import string\n",
    "from random import choice, sample, randint, random\n",
    "\n",
    "def _generateRandomData(n_rows=100):\n",
    "    return np.array([\n",
    "        ([_] + [randint(0, 100),\n",
    "                ''.join(sample(string.ascii_lowercase, 5)),\n",
    "                (random() * 100) - 50,\n",
    "                choice((True, False))\n",
    "        ]) for _ in range(n_rows)\n",
    "    ])\n"
   ]
  },
  {
   "cell_type": "code",
   "execution_count": 18,
   "metadata": {},
   "outputs": [
    {
     "data": {
      "application/vnd.jupyter.widget-view+json": {
       "model_id": "f91d42f23f9f496abcdbaaf445a8f990",
       "version_major": 2,
       "version_minor": 0
      },
      "text/plain": [
       "RegularTableWidget(height=500)"
      ]
     },
     "metadata": {},
     "output_type": "display_data"
    }
   ],
   "source": [
    "w = rt.RegularTableWidget(\n",
    "    rt.NumpyDataModel(_generateRandomData()))\n",
    "w.height = 500\n",
    "w"
   ]
  },
  {
   "cell_type": "code",
   "execution_count": 19,
   "metadata": {},
   "outputs": [],
   "source": [
    "w.css = {\"th\": \"background-color: magenta; color: white;\"}"
   ]
  },
  {
   "cell_type": "code",
   "execution_count": 20,
   "metadata": {},
   "outputs": [],
   "source": [
    "w.styler = {\n",
    "    \"td\": {\n",
    "        \"expression\": [\"y % 2 == 0\",\n",
    "                       \"y % 2 != 0\",\n",
    "                       \"(x == 1 or x == 3) and (data > 0)\",\n",
    "                       \"(x == 1 or x == 3) and (data < 0)\"],\n",
    "        \"style\": [\"background-color:cyan;\",\n",
    "                  \"background-color:white;\"\n",
    "                  \"color: green;\",\n",
    "                  \"color: red;\"]\n",
    "    }\n",
    "   }"
   ]
  },
  {
   "cell_type": "code",
   "execution_count": null,
   "metadata": {},
   "outputs": [],
   "source": []
  }
 ],
 "metadata": {
  "kernelspec": {
   "display_name": "Python 3",
   "language": "python",
   "name": "python3"
  },
  "language_info": {
   "codemirror_mode": {
    "name": "ipython",
    "version": 3
   },
   "file_extension": ".py",
   "mimetype": "text/x-python",
   "name": "python",
   "nbconvert_exporter": "python",
   "pygments_lexer": "ipython3",
   "version": "3.7.8"
  }
 },
 "nbformat": 4,
 "nbformat_minor": 4
}
